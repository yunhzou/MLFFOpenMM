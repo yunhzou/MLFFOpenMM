{
 "cells": [
  {
   "cell_type": "code",
   "execution_count": 3,
   "metadata": {},
   "outputs": [],
   "source": [
    "import numpy as np\n",
    "from model_MLP import MLP\n",
    "import torch"
   ]
  },
  {
   "cell_type": "code",
   "execution_count": 4,
   "metadata": {},
   "outputs": [
    {
     "name": "stdout",
     "output_type": "stream",
     "text": [
      "[[ 0.          0.0534427   0.05344266]\n",
      " [ 0.         -0.10604769  1.05260506]\n",
      " [ 0.          1.05260499 -0.10604768]]\n"
     ]
    }
   ],
   "source": [
    "config = np.array([[ 0.,          0.0534427,   0.05344266],\n",
    "                    [ 0.,         -0.10604769,  1.05260506],\n",
    "                     [ 0.,          1.05260499, -0.10604768],])\n",
    "print(config)"
   ]
  },
  {
   "cell_type": "code",
   "execution_count": 27,
   "metadata": {},
   "outputs": [],
   "source": [
    "config = np.array([[0,0,0],[0,0,1],[0,1,0]])"
   ]
  },
  {
   "cell_type": "code",
   "execution_count": 28,
   "metadata": {},
   "outputs": [
    {
     "data": {
      "text/plain": [
       "<All keys matched successfully>"
      ]
     },
     "execution_count": 28,
     "metadata": {},
     "output_type": "execute_result"
    }
   ],
   "source": [
    "#load the model\n",
    "model = MLP()\n",
    "model.load_state_dict(torch.load(r'weight\\MLP_model_weights.pth'))\n"
   ]
  },
  {
   "cell_type": "code",
   "execution_count": 29,
   "metadata": {},
   "outputs": [
    {
     "name": "stdout",
     "output_type": "stream",
     "text": [
      "tensor([[0.7274]], grad_fn=<MulBackward0>)\n"
     ]
    }
   ],
   "source": [
    "#convert to tensor\n",
    "config = torch.tensor(config, dtype=torch.float32)\n",
    "config = config.reshape(1,9)\n",
    "#predict\n",
    "output = model(config)\n",
    "print(output*0.01)\n",
    "\n"
   ]
  },
  {
   "cell_type": "code",
   "execution_count": 31,
   "metadata": {},
   "outputs": [
    {
     "name": "stdout",
     "output_type": "stream",
     "text": [
      "tensor([[ -59.2143,  317.0271,  220.0786],\n",
      "        [  28.9058,  -93.5581,  -23.4878],\n",
      "        [  45.1196, -226.0930, -200.3021]])\n"
     ]
    }
   ],
   "source": [
    "# predict force using gradient at the bottom layer\n",
    "config.requires_grad = True\n",
    "output = model(config)\n",
    "output.backward()\n",
    "print(-config.grad.reshape(3,3))"
   ]
  },
  {
   "cell_type": "code",
   "execution_count": 11,
   "metadata": {},
   "outputs": [],
   "source": [
    "from datageneration import *"
   ]
  },
  {
   "cell_type": "code",
   "execution_count": 13,
   "metadata": {},
   "outputs": [],
   "source": [
    "topology = create_water_topology()\n",
    "simulation = setup_simulation(topology)\n",
    "config = np.array([[0,0,0],[0,0,1],[0,1,0]])\n",
    "potential_energy, force = calculate_potential_energy_and_forces(simulation, config)"
   ]
  },
  {
   "cell_type": "code",
   "execution_count": 26,
   "metadata": {},
   "outputs": [
    {
     "name": "stdout",
     "output_type": "stream",
     "text": [
      "[[   0.          210.40185547  210.40185547]\n",
      " [   0.         -265.0564209    54.65456543]\n",
      " [   0.           54.65456543 -265.0564209 ]] kJ/(nm mol)\n"
     ]
    }
   ],
   "source": [
    "print(force/10) #in angstroms"
   ]
  },
  {
   "cell_type": "code",
   "execution_count": 30,
   "metadata": {},
   "outputs": [
    {
     "data": {
      "text/plain": [
       "Quantity(value=0.4262383270263672, unit=kilojoule/mole)"
      ]
     },
     "execution_count": 30,
     "metadata": {},
     "output_type": "execute_result"
    }
   ],
   "source": [
    "potential_energy*0.01"
   ]
  },
  {
   "cell_type": "code",
   "execution_count": 33,
   "metadata": {},
   "outputs": [],
   "source": [
    "import torch\n",
    "import torchani\n",
    "import torch.optim as optim\n",
    "from torch.utils.data import DataLoader, TensorDataset\n",
    "import numpy as np\n",
    "import os"
   ]
  },
  {
   "cell_type": "code",
   "execution_count": 34,
   "metadata": {},
   "outputs": [
    {
     "name": "stdout",
     "output_type": "stream",
     "text": [
      "C:/Users/Lenovo/anaconda3/envs/OpenMM/Lib/site-packages/torchani\\resources/\n"
     ]
    },
    {
     "data": {
      "text/plain": [
       "<All keys matched successfully>"
      ]
     },
     "execution_count": 34,
     "metadata": {},
     "output_type": "execute_result"
    }
   ],
   "source": [
    "device = torch.device('cuda' if torch.cuda.is_available() else 'cpu')\n",
    "\n",
    "ani_model = torchani.models.ANI1x(periodic_table_index=True).to(device).double()\n",
    "# Load the weight\n",
    "weight_path = r\"weight\\ani_model_weights.pth\"\n",
    "ani_model.load_state_dict(torch.load(weight_path))"
   ]
  },
  {
   "cell_type": "code",
   "execution_count": 40,
   "metadata": {},
   "outputs": [],
   "source": [
    "config = np.array([[[ 0.,          0.0534427,   0.05344266],\n",
    "                    [ 0.,         -0.10604769,  1.05260506],\n",
    "                     [ 0.,          1.05260499, -0.10604768]]])\n",
    "specieset = torch.tensor([[8, 1, 1]], device=device)\n",
    "config = torch.tensor(config, requires_grad=True,dtype=torch.double)"
   ]
  },
  {
   "cell_type": "code",
   "execution_count": 41,
   "metadata": {},
   "outputs": [],
   "source": [
    "energy = ani_model((specieset, config)).energies"
   ]
  },
  {
   "cell_type": "code",
   "execution_count": 42,
   "metadata": {},
   "outputs": [],
   "source": [
    "derivative = torch.autograd.grad(energy.sum(), config)[0]\n",
    "force = -derivative"
   ]
  },
  {
   "cell_type": "code",
   "execution_count": 43,
   "metadata": {},
   "outputs": [
    {
     "name": "stdout",
     "output_type": "stream",
     "text": [
      "tensor([[[-0.0000, -0.7204, -0.7204],\n",
      "         [-0.0000, -0.0479,  0.7683],\n",
      "         [-0.0000,  0.7683, -0.0479]]], dtype=torch.float64)\n"
     ]
    }
   ],
   "source": [
    "print(force)"
   ]
  },
  {
   "cell_type": "code",
   "execution_count": 6,
   "metadata": {},
   "outputs": [
    {
     "name": "stdout",
     "output_type": "stream",
     "text": [
      "Gradients of the input tensor:\n",
      "tensor([[[ 0.0000,  0.0000,  0.0229],\n",
      "         [ 0.0000,  0.0000, -0.0516],\n",
      "         [ 0.0937,  0.0000, -0.2606]],\n",
      "\n",
      "        [[-0.0676,  0.2969,  0.0000],\n",
      "         [ 0.1743,  0.1073,  0.0000],\n",
      "         [ 0.0937,  0.0758, -0.2606]]])\n"
     ]
    }
   ],
   "source": [
    "import torch\n",
    "import torch.nn as nn\n",
    "# import relu\n",
    "import torch.nn.functional as F\n",
    "\n",
    "# Define the simple model\n",
    "class SimpleModel(nn.Module):\n",
    "    def __init__(self):\n",
    "        super(SimpleModel, self).__init__()\n",
    "        self.activation = nn.ReLU()\n",
    "        self.fc = nn.Linear(9, 1)  # Flattening 3*3 to a single output\n",
    "        \n",
    "    def forward(self, x):\n",
    "        x = x.view(-1, 9)  # Flatten the 3*3 tensor to 9 elements\n",
    "        x = self.activation(x)\n",
    "        x = self.fc(x)\n",
    "        return x\n",
    "\n",
    "# Initialize the model\n",
    "model = SimpleModel()\n",
    "\n",
    "# Example input tensor of shape (A, 3, 3)\n",
    "A = 2  # Example batch size\n",
    "input_tensor = torch.randn(A, 3, 3, requires_grad=True)\n",
    "\n",
    "# Forward pass for the whole batch\n",
    "outputs = model(input_tensor)\n",
    "\n",
    "# Custom operation that forces the derivative to be 1 for each output\n",
    "outputs.sum().backward()\n",
    "\n",
    "# Output the gradients of the input tensor\n",
    "print(\"Gradients of the input tensor:\")\n",
    "print(input_tensor.grad)\n"
   ]
  },
  {
   "cell_type": "code",
   "execution_count": 7,
   "metadata": {},
   "outputs": [
    {
     "name": "stdout",
     "output_type": "stream",
     "text": [
      "Gradients for element 0 of output tensor:\n",
      "tensor([[[ 0.0000,  0.2969,  0.0229],\n",
      "         [ 0.0000,  0.0000, -0.0516],\n",
      "         [ 0.0000,  0.0000, -0.2606]],\n",
      "\n",
      "        [[-0.0000,  0.0000,  0.0000],\n",
      "         [ 0.0000,  0.0000,  0.0000],\n",
      "         [ 0.0000,  0.0000,  0.0000]]])\n",
      "Gradients for element 1 of output tensor:\n",
      "tensor([[[ 0.0000,  0.0000,  0.0000],\n",
      "         [ 0.0000,  0.0000,  0.0000],\n",
      "         [ 0.0000,  0.0000,  0.0000]],\n",
      "\n",
      "        [[-0.0676,  0.0000,  0.0229],\n",
      "         [ 0.0000,  0.0000,  0.0000],\n",
      "         [ 0.0000,  0.0758,  0.0000]]])\n"
     ]
    }
   ],
   "source": [
    "# Example input tensor of shape (A, 3, 3)\n",
    "A = 2  # Example batch size\n",
    "input_tensor = torch.randn(A, 3, 3, requires_grad=True)\n",
    "\n",
    "# Forward pass for the whole batch\n",
    "outputs = model(input_tensor)\n",
    "\n",
    "# Backward pass for each element in the output tensor\n",
    "for i in range(A):\n",
    "    model.zero_grad()  # Reset gradients for each backprop\n",
    "    output = outputs[i]\n",
    "    output.backward(retain_graph=True if i < A - 1 else False)\n",
    "    print(f\"Gradients for element {i} of output tensor:\")\n",
    "    print(input_tensor.grad)  # Print gradients of the input tensor\n",
    "    input_tensor.grad.zero_()  # Reset gradients after use\n"
   ]
  }
 ],
 "metadata": {
  "kernelspec": {
   "display_name": "OpenMM",
   "language": "python",
   "name": "python3"
  },
  "language_info": {
   "codemirror_mode": {
    "name": "ipython",
    "version": 3
   },
   "file_extension": ".py",
   "mimetype": "text/x-python",
   "name": "python",
   "nbconvert_exporter": "python",
   "pygments_lexer": "ipython3",
   "version": "3.12.2"
  }
 },
 "nbformat": 4,
 "nbformat_minor": 2
}
