{
 "cells": [
  {
   "cell_type": "code",
   "execution_count": 1,
   "metadata": {},
   "outputs": [],
   "source": [
    "import numpy as np\n",
    "from model_MLP import MLP\n",
    "import torch"
   ]
  },
  {
   "cell_type": "code",
   "execution_count": 11,
   "metadata": {},
   "outputs": [
    {
     "name": "stdout",
     "output_type": "stream",
     "text": [
      "[[ 0.          0.0534427   0.05344266]\n",
      " [ 0.         -0.10604769  1.05260506]\n",
      " [ 0.          1.05260499 -0.10604768]]\n"
     ]
    }
   ],
   "source": [
    "config = np.array([[ 0.,          0.0534427,   0.05344266],\n",
    "                    [ 0.,         -0.10604769,  1.05260506],\n",
    "                     [ 0.,          1.05260499, -0.10604768],])\n",
    "print(config)"
   ]
  },
  {
   "cell_type": "code",
   "execution_count": 15,
   "metadata": {},
   "outputs": [],
   "source": [
    "config = np.array([[0,0,0],[0,0,1],[0,1,0]])"
   ]
  },
  {
   "cell_type": "code",
   "execution_count": 2,
   "metadata": {},
   "outputs": [
    {
     "ename": "RuntimeError",
     "evalue": "Error(s) in loading state_dict for MLP:\n\tMissing key(s) in state_dict: \"layers.0.weight\", \"layers.0.bias\", \"layers.2.weight\", \"layers.2.bias\", \"layers.4.weight\", \"layers.4.bias\", \"layers.6.weight\", \"layers.6.bias\". \n\tUnexpected key(s) in state_dict: \"atom_subnets.0.layers.0.weight\", \"atom_subnets.0.layers.0.bias\", \"atom_subnets.0.layers.2.weight\", \"atom_subnets.0.layers.2.bias\", \"atom_subnets.0.layers.4.weight\", \"atom_subnets.0.layers.4.bias\", \"atom_subnets.1.layers.0.weight\", \"atom_subnets.1.layers.0.bias\", \"atom_subnets.1.layers.2.weight\", \"atom_subnets.1.layers.2.bias\", \"atom_subnets.1.layers.4.weight\", \"atom_subnets.1.layers.4.bias\", \"atom_subnets.2.layers.0.weight\", \"atom_subnets.2.layers.0.bias\", \"atom_subnets.2.layers.2.weight\", \"atom_subnets.2.layers.2.bias\", \"atom_subnets.2.layers.4.weight\", \"atom_subnets.2.layers.4.bias\". ",
     "output_type": "error",
     "traceback": [
      "\u001b[1;31m---------------------------------------------------------------------------\u001b[0m",
      "\u001b[1;31mRuntimeError\u001b[0m                              Traceback (most recent call last)",
      "Cell \u001b[1;32mIn[2], line 3\u001b[0m\n\u001b[0;32m      1\u001b[0m \u001b[38;5;66;03m#load the model\u001b[39;00m\n\u001b[0;32m      2\u001b[0m model \u001b[38;5;241m=\u001b[39m MLP()\n\u001b[1;32m----> 3\u001b[0m \u001b[43mmodel\u001b[49m\u001b[38;5;241;43m.\u001b[39;49m\u001b[43mload_state_dict\u001b[49m\u001b[43m(\u001b[49m\u001b[43mtorch\u001b[49m\u001b[38;5;241;43m.\u001b[39;49m\u001b[43mload\u001b[49m\u001b[43m(\u001b[49m\u001b[38;5;124;43mr\u001b[39;49m\u001b[38;5;124;43m'\u001b[39;49m\u001b[38;5;124;43mweight\u001b[39;49m\u001b[38;5;124;43m\\\u001b[39;49m\u001b[38;5;124;43mpes_model_weights.pth\u001b[39;49m\u001b[38;5;124;43m'\u001b[39;49m\u001b[43m)\u001b[49m\u001b[43m)\u001b[49m\n",
      "File \u001b[1;32mc:\\Users\\Lenovo\\anaconda3\\envs\\OpenMM\\Lib\\site-packages\\torch\\nn\\modules\\module.py:2153\u001b[0m, in \u001b[0;36mModule.load_state_dict\u001b[1;34m(self, state_dict, strict, assign)\u001b[0m\n\u001b[0;32m   2148\u001b[0m         error_msgs\u001b[38;5;241m.\u001b[39minsert(\n\u001b[0;32m   2149\u001b[0m             \u001b[38;5;241m0\u001b[39m, \u001b[38;5;124m'\u001b[39m\u001b[38;5;124mMissing key(s) in state_dict: \u001b[39m\u001b[38;5;132;01m{}\u001b[39;00m\u001b[38;5;124m. \u001b[39m\u001b[38;5;124m'\u001b[39m\u001b[38;5;241m.\u001b[39mformat(\n\u001b[0;32m   2150\u001b[0m                 \u001b[38;5;124m'\u001b[39m\u001b[38;5;124m, \u001b[39m\u001b[38;5;124m'\u001b[39m\u001b[38;5;241m.\u001b[39mjoin(\u001b[38;5;124mf\u001b[39m\u001b[38;5;124m'\u001b[39m\u001b[38;5;124m\"\u001b[39m\u001b[38;5;132;01m{\u001b[39;00mk\u001b[38;5;132;01m}\u001b[39;00m\u001b[38;5;124m\"\u001b[39m\u001b[38;5;124m'\u001b[39m \u001b[38;5;28;01mfor\u001b[39;00m k \u001b[38;5;129;01min\u001b[39;00m missing_keys)))\n\u001b[0;32m   2152\u001b[0m \u001b[38;5;28;01mif\u001b[39;00m \u001b[38;5;28mlen\u001b[39m(error_msgs) \u001b[38;5;241m>\u001b[39m \u001b[38;5;241m0\u001b[39m:\n\u001b[1;32m-> 2153\u001b[0m     \u001b[38;5;28;01mraise\u001b[39;00m \u001b[38;5;167;01mRuntimeError\u001b[39;00m(\u001b[38;5;124m'\u001b[39m\u001b[38;5;124mError(s) in loading state_dict for \u001b[39m\u001b[38;5;132;01m{}\u001b[39;00m\u001b[38;5;124m:\u001b[39m\u001b[38;5;130;01m\\n\u001b[39;00m\u001b[38;5;130;01m\\t\u001b[39;00m\u001b[38;5;132;01m{}\u001b[39;00m\u001b[38;5;124m'\u001b[39m\u001b[38;5;241m.\u001b[39mformat(\n\u001b[0;32m   2154\u001b[0m                        \u001b[38;5;28mself\u001b[39m\u001b[38;5;241m.\u001b[39m\u001b[38;5;18m__class__\u001b[39m\u001b[38;5;241m.\u001b[39m\u001b[38;5;18m__name__\u001b[39m, \u001b[38;5;124m\"\u001b[39m\u001b[38;5;130;01m\\n\u001b[39;00m\u001b[38;5;130;01m\\t\u001b[39;00m\u001b[38;5;124m\"\u001b[39m\u001b[38;5;241m.\u001b[39mjoin(error_msgs)))\n\u001b[0;32m   2155\u001b[0m \u001b[38;5;28;01mreturn\u001b[39;00m _IncompatibleKeys(missing_keys, unexpected_keys)\n",
      "\u001b[1;31mRuntimeError\u001b[0m: Error(s) in loading state_dict for MLP:\n\tMissing key(s) in state_dict: \"layers.0.weight\", \"layers.0.bias\", \"layers.2.weight\", \"layers.2.bias\", \"layers.4.weight\", \"layers.4.bias\", \"layers.6.weight\", \"layers.6.bias\". \n\tUnexpected key(s) in state_dict: \"atom_subnets.0.layers.0.weight\", \"atom_subnets.0.layers.0.bias\", \"atom_subnets.0.layers.2.weight\", \"atom_subnets.0.layers.2.bias\", \"atom_subnets.0.layers.4.weight\", \"atom_subnets.0.layers.4.bias\", \"atom_subnets.1.layers.0.weight\", \"atom_subnets.1.layers.0.bias\", \"atom_subnets.1.layers.2.weight\", \"atom_subnets.1.layers.2.bias\", \"atom_subnets.1.layers.4.weight\", \"atom_subnets.1.layers.4.bias\", \"atom_subnets.2.layers.0.weight\", \"atom_subnets.2.layers.0.bias\", \"atom_subnets.2.layers.2.weight\", \"atom_subnets.2.layers.2.bias\", \"atom_subnets.2.layers.4.weight\", \"atom_subnets.2.layers.4.bias\". "
     ]
    }
   ],
   "source": [
    "#load the model\n",
    "model = MLP()\n",
    "model.load_state_dict(torch.load(r'weight\\pes_model_weights.pth'))\n"
   ]
  },
  {
   "cell_type": "code",
   "execution_count": 3,
   "metadata": {},
   "outputs": [
    {
     "ename": "NameError",
     "evalue": "name 'model' is not defined",
     "output_type": "error",
     "traceback": [
      "\u001b[1;31m---------------------------------------------------------------------------\u001b[0m",
      "\u001b[1;31mNameError\u001b[0m                                 Traceback (most recent call last)",
      "Cell \u001b[1;32mIn[3], line 5\u001b[0m\n\u001b[0;32m      3\u001b[0m config \u001b[38;5;241m=\u001b[39m config\u001b[38;5;241m.\u001b[39mreshape(\u001b[38;5;241m1\u001b[39m,\u001b[38;5;241m9\u001b[39m)\n\u001b[0;32m      4\u001b[0m \u001b[38;5;66;03m#predict\u001b[39;00m\n\u001b[1;32m----> 5\u001b[0m output \u001b[38;5;241m=\u001b[39m \u001b[43mmodel\u001b[49m(config)\n\u001b[0;32m      6\u001b[0m \u001b[38;5;28mprint\u001b[39m(output)\n",
      "\u001b[1;31mNameError\u001b[0m: name 'model' is not defined"
     ]
    }
   ],
   "source": [
    "#convert to tensor\n",
    "config = torch.tensor(config, dtype=torch.float32)\n",
    "config = config.reshape(1,9)\n",
    "#predict\n",
    "output = model(config)\n",
    "print(output)\n",
    "\n"
   ]
  },
  {
   "cell_type": "code",
   "execution_count": 5,
   "metadata": {},
   "outputs": [
    {
     "name": "stdout",
     "output_type": "stream",
     "text": [
      "tensor([[ 134.7454,  813.2773, -999.0754,  -37.5762, -171.8288,  645.9871,\n",
      "           -8.6931, -688.5799,  374.3125]])\n"
     ]
    }
   ],
   "source": [
    "# predict force using gradient at the bottom layer\n",
    "config.requires_grad = True\n",
    "output = model(config)\n",
    "output.backward()\n",
    "print(config.grad)"
   ]
  },
  {
   "cell_type": "code",
   "execution_count": 4,
   "metadata": {},
   "outputs": [],
   "source": [
    "from datageneration import *"
   ]
  },
  {
   "cell_type": "code",
   "execution_count": 12,
   "metadata": {},
   "outputs": [],
   "source": [
    "topology = create_water_topology()\n",
    "simulation = setup_simulation(topology)\n",
    "config = np.array([[ 0.,          0.0534427,   0.05344266],\n",
    " [ 0.,         -0.10604769,  1.05260506],\n",
    " [ 0.,          1.05260499, -0.10604768],])\n",
    "potential_energy, force = calculate_potential_energy_and_forces(simulation, config)"
   ]
  },
  {
   "cell_type": "code",
   "execution_count": 8,
   "metadata": {},
   "outputs": [
    {
     "name": "stdout",
     "output_type": "stream",
     "text": [
      "[[ 0.          1.65714926  1.66899399]\n",
      " [ 0.         -1.40472912 -0.26263409]\n",
      " [ 0.         -0.25242013 -1.40635987]] kJ/(nm mol)\n"
     ]
    }
   ],
   "source": [
    "print(force)"
   ]
  },
  {
   "cell_type": "code",
   "execution_count": 13,
   "metadata": {},
   "outputs": [
    {
     "data": {
      "text/plain": [
       "Quantity(value=1.2486228115449194e-05, unit=kilojoule/mole)"
      ]
     },
     "execution_count": 13,
     "metadata": {},
     "output_type": "execute_result"
    }
   ],
   "source": [
    "potential_energy"
   ]
  },
  {
   "cell_type": "code",
   "execution_count": 33,
   "metadata": {},
   "outputs": [],
   "source": [
    "import torch\n",
    "import torchani\n",
    "import torch.optim as optim\n",
    "from torch.utils.data import DataLoader, TensorDataset\n",
    "import numpy as np\n",
    "import os"
   ]
  },
  {
   "cell_type": "code",
   "execution_count": 34,
   "metadata": {},
   "outputs": [
    {
     "name": "stdout",
     "output_type": "stream",
     "text": [
      "C:/Users/Lenovo/anaconda3/envs/OpenMM/Lib/site-packages/torchani\\resources/\n"
     ]
    },
    {
     "data": {
      "text/plain": [
       "<All keys matched successfully>"
      ]
     },
     "execution_count": 34,
     "metadata": {},
     "output_type": "execute_result"
    }
   ],
   "source": [
    "device = torch.device('cuda' if torch.cuda.is_available() else 'cpu')\n",
    "\n",
    "ani_model = torchani.models.ANI1x(periodic_table_index=True).to(device).double()\n",
    "# Load the weight\n",
    "weight_path = r\"weight\\ani_model_weights.pth\"\n",
    "ani_model.load_state_dict(torch.load(weight_path))"
   ]
  },
  {
   "cell_type": "code",
   "execution_count": 40,
   "metadata": {},
   "outputs": [],
   "source": [
    "config = np.array([[[ 0.,          0.0534427,   0.05344266],\n",
    "                    [ 0.,         -0.10604769,  1.05260506],\n",
    "                     [ 0.,          1.05260499, -0.10604768]]])\n",
    "specieset = torch.tensor([[8, 1, 1]], device=device)\n",
    "config = torch.tensor(config, requires_grad=True,dtype=torch.double)"
   ]
  },
  {
   "cell_type": "code",
   "execution_count": 41,
   "metadata": {},
   "outputs": [],
   "source": [
    "energy = ani_model((specieset, config)).energies"
   ]
  },
  {
   "cell_type": "code",
   "execution_count": 42,
   "metadata": {},
   "outputs": [],
   "source": [
    "derivative = torch.autograd.grad(energy.sum(), config)[0]\n",
    "force = -derivative"
   ]
  },
  {
   "cell_type": "code",
   "execution_count": 43,
   "metadata": {},
   "outputs": [
    {
     "name": "stdout",
     "output_type": "stream",
     "text": [
      "tensor([[[-0.0000, -0.7204, -0.7204],\n",
      "         [-0.0000, -0.0479,  0.7683],\n",
      "         [-0.0000,  0.7683, -0.0479]]], dtype=torch.float64)\n"
     ]
    }
   ],
   "source": [
    "print(force)"
   ]
  }
 ],
 "metadata": {
  "kernelspec": {
   "display_name": "OpenMM",
   "language": "python",
   "name": "python3"
  },
  "language_info": {
   "codemirror_mode": {
    "name": "ipython",
    "version": 3
   },
   "file_extension": ".py",
   "mimetype": "text/x-python",
   "name": "python",
   "nbconvert_exporter": "python",
   "pygments_lexer": "ipython3",
   "version": "3.12.2"
  }
 },
 "nbformat": 4,
 "nbformat_minor": 2
}
