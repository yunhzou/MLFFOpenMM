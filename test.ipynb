{
 "cells": [
  {
   "cell_type": "code",
   "execution_count": 8,
   "metadata": {},
   "outputs": [],
   "source": [
    "import numpy as np\n",
    "from model import MLP\n",
    "import torch"
   ]
  },
  {
   "cell_type": "code",
   "execution_count": 9,
   "metadata": {},
   "outputs": [
    {
     "name": "stdout",
     "output_type": "stream",
     "text": [
      "[[ 0.          0.0534427   0.05344266]\n",
      " [ 0.         -0.10604769  1.05260506]\n",
      " [ 0.          1.05260499 -0.10604768]]\n"
     ]
    }
   ],
   "source": [
    "config = np.array([[ 0.,          0.0534427,   0.05344266],\n",
    " [ 0.,         -0.10604769,  1.05260506],\n",
    " [ 0.,          1.05260499, -0.10604768],])\n",
    "print(config)"
   ]
  },
  {
   "cell_type": "code",
   "execution_count": 15,
   "metadata": {},
   "outputs": [],
   "source": [
    "config = np.array([[0,0,0],[0,0,1],[0,1,0]])"
   ]
  },
  {
   "cell_type": "code",
   "execution_count": 16,
   "metadata": {},
   "outputs": [
    {
     "data": {
      "text/plain": [
       "<All keys matched successfully>"
      ]
     },
     "execution_count": 16,
     "metadata": {},
     "output_type": "execute_result"
    }
   ],
   "source": [
    "#load the model\n",
    "model = MLP()\n",
    "model.load_state_dict(torch.load(r'weight\\mlp_model_weights.pth'))\n"
   ]
  },
  {
   "cell_type": "code",
   "execution_count": 17,
   "metadata": {},
   "outputs": [
    {
     "name": "stdout",
     "output_type": "stream",
     "text": [
      "tensor([[-14.4851]], grad_fn=<AddmmBackward0>)\n"
     ]
    }
   ],
   "source": [
    "#convert to tensor\n",
    "config = torch.tensor(config, dtype=torch.float32)\n",
    "config = config.reshape(1,9)\n",
    "#predict\n",
    "output = model(config)\n",
    "print(output)\n",
    "\n"
   ]
  },
  {
   "cell_type": "code",
   "execution_count": 18,
   "metadata": {},
   "outputs": [
    {
     "name": "stdout",
     "output_type": "stream",
     "text": [
      "tensor([[-564.2786, -242.9326, -234.5451,  263.0485,  -31.0158, -189.4107,\n",
      "          353.0499,  274.3174,  628.7446]])\n"
     ]
    }
   ],
   "source": [
    "# predict force using gradient at the bottom layer\n",
    "config.requires_grad = True\n",
    "output = model(config)\n",
    "output.backward()\n",
    "print(config.grad)"
   ]
  }
 ],
 "metadata": {
  "kernelspec": {
   "display_name": "OpenMM",
   "language": "python",
   "name": "python3"
  },
  "language_info": {
   "codemirror_mode": {
    "name": "ipython",
    "version": 3
   },
   "file_extension": ".py",
   "mimetype": "text/x-python",
   "name": "python",
   "nbconvert_exporter": "python",
   "pygments_lexer": "ipython3",
   "version": "3.12.2"
  }
 },
 "nbformat": 4,
 "nbformat_minor": 2
}
