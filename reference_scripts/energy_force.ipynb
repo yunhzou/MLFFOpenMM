{
  "cells": [
    {
      "cell_type": "code",
      "execution_count": 1,
      "metadata": {
        "collapsed": false
      },
      "outputs": [],
      "source": [
        "%matplotlib inline"
      ]
    },
    {
      "cell_type": "markdown",
      "metadata": {},
      "source": [
        "\n",
        "# Computing Energy and Force Using Models Inside Model Zoo\n",
        "\n",
        "TorchANI has a model zoo trained by NeuroChem. These models are shipped with\n",
        "TorchANI and can be used directly.\n"
      ]
    },
    {
      "cell_type": "markdown",
      "metadata": {},
      "source": [
        "To begin with, let's first import the modules we will use:\n",
        "\n"
      ]
    },
    {
      "cell_type": "code",
      "execution_count": 22,
      "metadata": {
        "collapsed": false
      },
      "outputs": [],
      "source": [
        "import torch\n",
        "import torchani"
      ]
    },
    {
      "cell_type": "markdown",
      "metadata": {},
      "source": [
        "Let's now manually specify the device we want TorchANI to run:\n",
        "\n"
      ]
    },
    {
      "cell_type": "code",
      "execution_count": 23,
      "metadata": {
        "collapsed": false
      },
      "outputs": [],
      "source": [
        "device = torch.device('cuda' if torch.cuda.is_available() else 'cpu')"
      ]
    },
    {
      "cell_type": "markdown",
      "metadata": {},
      "source": [
        "Let's now load the built-in ANI-1ccx models. The builtin ANI-1ccx contains 8\n",
        "models trained with diffrent initialization. Predicting the energy and force\n",
        "using the average of the 8 models outperform using a single model, so it is\n",
        "always recommended to use an ensemble, unless the speed of computation is an\n",
        "issue in your application.\n",
        "\n",
        "The ``periodic_table_index`` arguments tells TorchANI to use element index\n",
        "in periodic table to index species. If not specified, you need to use\n",
        "0, 1, 2, 3, ... to index species\n",
        "\n"
      ]
    },
    {
      "cell_type": "code",
      "execution_count": 13,
      "metadata": {
        "collapsed": false
      },
      "outputs": [
        {
          "name": "stdout",
          "output_type": "stream",
          "text": [
            "C:/Users/Lenovo/anaconda3/envs/OpenMM/Lib/site-packages/torchani\\resources/\n"
          ]
        }
      ],
      "source": [
        "model = torchani.models.ANI2x(periodic_table_index=True).to(device)"
      ]
    },
    {
      "cell_type": "markdown",
      "metadata": {},
      "source": [
        "Now let's define the coordinate and species. If you just want to compute the\n",
        "energy and force for a single structure like in this example, you need to\n",
        "make the coordinate tensor has shape ``(1, Na, 3)`` and species has shape\n",
        "``(1, Na)``, where ``Na`` is the number of atoms in the molecule, the\n",
        "preceding ``1`` in the shape is here to support batch processing like in\n",
        "training. If you have ``N`` different structures to compute, then make it\n",
        "``N``.\n",
        "\n",
        "<div class=\"alert alert-info\"><h4>Note</h4><p>The coordinates are in Angstrom, and the energies you get are in Hartree</p></div>\n",
        "\n"
      ]
    },
    {
      "cell_type": "code",
      "execution_count": 7,
      "metadata": {
        "collapsed": false
      },
      "outputs": [],
      "source": [
        "coordinates = torch.tensor([[[0.03192167, 0.00638559, 0.01301679],\n",
        "                             [-0.83140486, 0.39370209, -0.26395324],\n",
        "                             [-0.66518241, -0.84461308, 0.20759389],\n",
        "                             [0.45554739, 0.54289633, 0.81170881],\n",
        "                             [0.66091919, -0.16799635, -0.91037834]]],\n",
        "                           requires_grad=True, device=device)\n",
        "# In periodic table, C = 6 and H = 1\n",
        "species = torch.tensor([[6, 1, 1, 1, 1]], device=device)"
      ]
    },
    {
      "cell_type": "code",
      "execution_count": 38,
      "metadata": {},
      "outputs": [],
      "source": [
        "coordinates = torch.tensor([[[ 0.,          0.0534427,   0.05344266],\n",
        "                                [ 0.,         -0.10604769,  1.05260506],\n",
        "                                [ 0.,          1.05260499, -0.10604768]],\n",
        "                                [[ 0.,          0.0534427,   0.05344266],\n",
        "                                [ 0.,         -0.10604769,  1.05260506],\n",
        "                                [ 0.,          1.05260499, -0.10604768]]],\n",
        "                                requires_grad=True, \n",
        "                                device=device)\n",
        "\n",
        "#H2O\n",
        "species = torch.tensor([[8, 1, 1],[8, 1, 1]], device=device)"
      ]
    },
    {
      "cell_type": "code",
      "execution_count": 43,
      "metadata": {},
      "outputs": [
        {
          "data": {
            "text/plain": [
              "torch.Size([2, 3])"
            ]
          },
          "execution_count": 43,
          "metadata": {},
          "output_type": "execute_result"
        }
      ],
      "source": [
        "species.shape"
      ]
    },
    {
      "cell_type": "markdown",
      "metadata": {},
      "source": [
        "Now let's compute energy and force:\n",
        "\n"
      ]
    },
    {
      "cell_type": "code",
      "execution_count": 39,
      "metadata": {
        "collapsed": false
      },
      "outputs": [],
      "source": [
        "energy = model((species, coordinates)).energies\n",
        "derivative = torch.autograd.grad(energy.sum(), coordinates)[0]\n",
        "force = -derivative"
      ]
    },
    {
      "cell_type": "markdown",
      "metadata": {},
      "source": [
        "And print to see the result:\n",
        "\n"
      ]
    },
    {
      "cell_type": "code",
      "execution_count": 41,
      "metadata": {
        "collapsed": false
      },
      "outputs": [
        {
          "name": "stdout",
          "output_type": "stream",
          "text": [
            "Energy: tensor([-76.3836, -76.3836], dtype=torch.float64, grad_fn=<AddBackward0>)\n",
            "Force: tensor([[[-0.0000,  0.0482,  0.0482],\n",
            "         [-0.0000,  0.0294, -0.0775],\n",
            "         [-0.0000, -0.0775,  0.0294]],\n",
            "\n",
            "        [[-0.0000,  0.0482,  0.0482],\n",
            "         [-0.0000,  0.0294, -0.0775],\n",
            "         [-0.0000, -0.0775,  0.0294]]])\n"
          ]
        }
      ],
      "source": [
        "print('Energy:', energy)\n",
        "print('Force:', force.squeeze())"
      ]
    },
    {
      "cell_type": "code",
      "execution_count": 35,
      "metadata": {},
      "outputs": [
        {
          "data": {
            "text/plain": [
              "torch.Tensor"
            ]
          },
          "execution_count": 35,
          "metadata": {},
          "output_type": "execute_result"
        }
      ],
      "source": [
        "type(energy)"
      ]
    },
    {
      "cell_type": "markdown",
      "metadata": {},
      "source": [
        "you can also get the atomic energies (WARNING: these have no physical\n",
        "meaning) by calling:\n",
        "\n"
      ]
    },
    {
      "cell_type": "code",
      "execution_count": 27,
      "metadata": {
        "collapsed": false
      },
      "outputs": [],
      "source": [
        "_, atomic_energies = model.atomic_energies((species, coordinates))"
      ]
    },
    {
      "cell_type": "markdown",
      "metadata": {},
      "source": [
        "this gives you the average (shifted) energies over all models of the ensemble by default,\n",
        "with the same shape as the coordinates. Dummy atoms, if present, will have an\n",
        "energy of zero\n",
        "\n"
      ]
    },
    {
      "cell_type": "code",
      "execution_count": 28,
      "metadata": {
        "collapsed": false
      },
      "outputs": [
        {
          "name": "stdout",
          "output_type": "stream",
          "text": [
            "Average Atomic energies, for species 6 1 1 1 1 tensor([[-75.1905,  -0.5965,  -0.5965]], grad_fn=<MeanBackward1>)\n"
          ]
        }
      ],
      "source": [
        "print('Average Atomic energies, for species 6 1 1 1 1', atomic_energies)"
      ]
    },
    {
      "cell_type": "markdown",
      "metadata": {},
      "source": [
        "you can also access model specific atomic energies\n",
        "\n"
      ]
    },
    {
      "cell_type": "code",
      "execution_count": 33,
      "metadata": {
        "collapsed": false
      },
      "outputs": [
        {
          "name": "stdout",
          "output_type": "stream",
          "text": [
            "Atomic energies of first model, for species 6 1 1 1 1 tensor([[-75.1946,  -0.5945,  -0.5945]], grad_fn=<SliceBackward0>)\n"
          ]
        }
      ],
      "source": [
        "_, atomic_energies = model.atomic_energies((species, coordinates), average=False)\n",
        "print('Atomic energies of first model, for species 6 1 1 1 1', atomic_energies[3, :, :])"
      ]
    }
  ],
  "metadata": {
    "kernelspec": {
      "display_name": "Python 3",
      "language": "python",
      "name": "python3"
    },
    "language_info": {
      "codemirror_mode": {
        "name": "ipython",
        "version": 3
      },
      "file_extension": ".py",
      "mimetype": "text/x-python",
      "name": "python",
      "nbconvert_exporter": "python",
      "pygments_lexer": "ipython3",
      "version": "3.12.2"
    }
  },
  "nbformat": 4,
  "nbformat_minor": 0
}
